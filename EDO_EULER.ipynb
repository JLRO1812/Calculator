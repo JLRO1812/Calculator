{
  "nbformat": 4,
  "nbformat_minor": 0,
  "metadata": {
    "colab": {
      "name": "EDO_EULER.ipynb",
      "provenance": [],
      "collapsed_sections": [],
      "authorship_tag": "ABX9TyN1Z+eZONznEwq+CGVZg+/R",
      "include_colab_link": true
    },
    "kernelspec": {
      "name": "python3",
      "display_name": "Python 3"
    }
  },
  "cells": [
    {
      "cell_type": "markdown",
      "metadata": {
        "id": "view-in-github",
        "colab_type": "text"
      },
      "source": [
        "<a href=\"https://colab.research.google.com/github/JLRO1812/Calculator/blob/master/EDO_EULER.ipynb\" target=\"_parent\"><img src=\"https://colab.research.google.com/assets/colab-badge.svg\" alt=\"Open In Colab\"/></a>"
      ]
    },
    {
      "cell_type": "code",
      "metadata": {
        "colab": {
          "base_uri": "https://localhost:8080/"
        },
        "id": "q91t0MvjvM1v",
        "outputId": "5a2f3c4d-18de-4e21-e6a1-8023ecdc6d20"
      },
      "source": [
        "x,y,h = 0,1,0.1\r\n",
        "while x<1:\r\n",
        "  y=y+(2*y-1)*h\r\n",
        "  x=x+h\r\n",
        "\r\n",
        "  print (x,y)"
      ],
      "execution_count": 1,
      "outputs": [
        {
          "output_type": "stream",
          "text": [
            "0.1 1.1\n",
            "0.2 1.2200000000000002\n",
            "0.30000000000000004 1.3640000000000003\n",
            "0.4 1.5368000000000004\n",
            "0.5 1.7441600000000004\n",
            "0.6 1.9929920000000005\n",
            "0.7 2.2915904000000005\n",
            "0.7999999999999999 2.6499084800000006\n",
            "0.8999999999999999 3.0798901760000006\n",
            "0.9999999999999999 3.595868211200001\n",
            "1.0999999999999999 4.215041853440001\n"
          ],
          "name": "stdout"
        }
      ]
    },
    {
      "cell_type": "code",
      "metadata": {
        "colab": {
          "base_uri": "https://localhost:8080/"
        },
        "id": "phrBzSD53z_G",
        "outputId": "60f581f0-d7ad-4d75-f3b9-b9b4addca670"
      },
      "source": [
        "from math import exp\r\n",
        "error=abs(0.5*(exp(2)+1)-y)\r\n",
        "\r\n",
        "print(error)"
      ],
      "execution_count": 2,
      "outputs": [
        {
          "output_type": "stream",
          "text": [
            "0.020513803974675504\n"
          ],
          "name": "stdout"
        }
      ]
    }
  ]
}